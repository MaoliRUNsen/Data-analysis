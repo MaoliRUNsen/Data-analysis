{
 "cells": [
  {
   "cell_type": "code",
   "execution_count": 1,
   "id": "db4d7875",
   "metadata": {},
   "outputs": [],
   "source": [
    "#导入必要的包\n",
    "import pandas as pd\n",
    "import numpy as np\n",
    "import seaborn as sns\n",
    "import matplotlib.pyplot as plt\n",
    "%matplotlib inline\n",
    "from scipy import stats\n",
    "import warnings\n",
    "warnings.filterwarnings('ignore')\n",
    "from sklearn.metrics import mean_squared_error\n",
    "import pre_process"
   ]
  },
  {
   "cell_type": "code",
   "execution_count": 2,
   "id": "06323f93",
   "metadata": {},
   "outputs": [],
   "source": [
    "#读取相关文件\n",
    "train_path = '../data/train.csv'\n",
    "test_path = '../data/test.csv'\n",
    "train_data = pd.read_csv(train_path)\n",
    "test_data = pd.read_csv(test_path)\n",
    "train_data,test_data = pre_process.fill_inf(train_data,test_data)#填补inf值\n",
    "train_data,test_data = pre_process.del_singular_feature(train_data,test_data)#删除单值属性"
   ]
  },
  {
   "cell_type": "code",
   "execution_count": 6,
   "id": "a483c073",
   "metadata": {},
   "outputs": [
    {
     "name": "stdout",
     "output_type": "stream",
     "text": [
      "numerical_fea: ['main_account_loan_no', 'main_account_active_loan_no', 'main_account_overdue_no', 'main_account_outstanding_loan', 'main_account_sanction_loan', 'main_account_disbursed_loan', 'sub_account_loan_no', 'sub_account_active_loan_no', 'sub_account_overdue_no', 'sub_account_outstanding_loan', 'sub_account_sanction_loan', 'sub_account_disbursed_loan', 'disbursed_amount', 'asset_cost', 'branch_id', 'supplier_id', 'manufacturer_id', 'area_id', 'employee_code_id', 'Driving_flag', 'passport_flag', 'credit_score', 'main_account_monthly_payment', 'sub_account_monthly_payment', 'last_six_month_new_loan_no', 'last_six_month_defaulted_no', 'average_age', 'credit_history', 'enquirie_no', 'loan_to_asset_ratio', 'total_account_loan_no', 'sub_account_inactive_loan_no', 'total_inactive_loan_no', 'main_account_inactive_loan_no', 'total_overdue_no', 'total_outstanding_loan', 'total_sanction_loan', 'total_disbursed_loan', 'total_monthly_payment', 'outstanding_disburse_ratio', 'main_account_tenure', 'sub_account_tenure', 'disburse_to_sactioned_ratio', 'active_to_inactive_act_ratio', 'Credit_level', 'employment_type', 'age', 'loan_default']\n",
      "category_fea: []\n"
     ]
    }
   ],
   "source": [
    "numerical_fea = list(train_data.select_dtypes(exclude=['object']).columns) \n",
    "category_fea = list(filter(lambda x: x not in numerical_fea,list(train_data.columns)))\n",
    "print(\"numerical_fea:\",numerical_fea)\n",
    "print(\"category_fea:\",category_fea)"
   ]
  },
  {
   "cell_type": "code",
   "execution_count": 8,
   "id": "718f96fb",
   "metadata": {},
   "outputs": [],
   "source": [
    "from sklearn.feature_selection import VarianceThreshold\n",
    "from sklearn.datasets import load_iris\n",
    "\n",
    "#方差选择法，返回值为特征选择后的数据\n",
    "#参数threshold为方差的阈值\n",
    "train_data = VarianceThreshold(threshold=3).fit_transform(train_data)\n",
    "test_data = VarianceThreshold(threshold=3).fit_transform(test_data)\n"
   ]
  },
  {
   "cell_type": "code",
   "execution_count": 7,
   "id": "5470af1c",
   "metadata": {},
   "outputs": [
    {
     "data": {
      "text/plain": [
       "(150000, 48)"
      ]
     },
     "execution_count": 7,
     "metadata": {},
     "output_type": "execute_result"
    }
   ],
   "source": []
  },
  {
   "cell_type": "code",
   "execution_count": 7,
   "id": "fca14eff",
   "metadata": {},
   "outputs": [
    {
     "name": "stdout",
     "output_type": "stream",
     "text": [
      "numerical_fea中的numerical_serial_fea: ['main_account_loan_no', 'main_account_active_loan_no', 'main_account_overdue_no', 'main_account_outstanding_loan', 'main_account_sanction_loan', 'main_account_disbursed_loan', 'sub_account_loan_no', 'sub_account_active_loan_no', 'sub_account_outstanding_loan', 'sub_account_sanction_loan', 'sub_account_disbursed_loan', 'disbursed_amount', 'asset_cost', 'branch_id', 'supplier_id', 'area_id', 'employee_code_id', 'credit_score', 'main_account_monthly_payment', 'sub_account_monthly_payment', 'last_six_month_new_loan_no', 'last_six_month_defaulted_no', 'average_age', 'credit_history', 'enquirie_no', 'loan_to_asset_ratio', 'total_account_loan_no', 'sub_account_inactive_loan_no', 'total_inactive_loan_no', 'main_account_inactive_loan_no', 'total_overdue_no', 'total_outstanding_loan', 'total_sanction_loan', 'total_disbursed_loan', 'total_monthly_payment', 'outstanding_disburse_ratio', 'main_account_tenure', 'sub_account_tenure', 'disburse_to_sactioned_ratio', 'active_to_inactive_act_ratio', 'Credit_level', 'age']\n",
      "numerical_fea中的numerical_noserial_fea: ['sub_account_overdue_no', 'manufacturer_id', 'Driving_flag', 'passport_flag', 'employment_type', 'loan_default']\n"
     ]
    }
   ],
   "source": [
    "#过滤数值型类别特征 \n",
    "def get_numerical_serial_fea(data,feas): \n",
    "    numerical_serial_fea = [] \n",
    "    numerical_noserial_fea = [] \n",
    "    for fea in feas: \n",
    "        temp = data[fea].nunique() \n",
    "        if temp <= 10: \n",
    "            numerical_noserial_fea.append(fea) \n",
    "            continue \n",
    "        numerical_serial_fea.append(fea) \n",
    "    return numerical_serial_fea,numerical_noserial_fea \n",
    "numerical_serial_fea,numerical_noserial_fea = get_numerical_serial_fea(train_data,numerical_fea)\n",
    "print(\"numerical_fea中的numerical_serial_fea:\",numerical_serial_fea)\n",
    "print(\"numerical_fea中的numerical_noserial_fea:\",numerical_noserial_fea)"
   ]
  },
  {
   "cell_type": "code",
   "execution_count": null,
   "id": "bb9d4df4",
   "metadata": {},
   "outputs": [],
   "source": [
    "train_data['loan_default'].value_counts()\n",
    "#逾期的占少数17.6%"
   ]
  },
  {
   "cell_type": "code",
   "execution_count": null,
   "id": "a6fe42f5",
   "metadata": {},
   "outputs": [],
   "source": [
    "columns = numerical_serial_fea\n",
    "fig = plt.figure(figsize=(80,60),dpi=75)\n",
    "for i in range(len(columns)):\n",
    "    plt.subplot(7,8,i+1)\n",
    "    sns.boxplot(train_data[columns[i]],orient='v',width=0.5)\n",
    "    plt.ylabel(columns[i],fontsize=36)\n",
    "plt.savefig('analysis_results/boxes.png')\n",
    "plt.show()"
   ]
  },
  {
   "cell_type": "code",
   "execution_count": 9,
   "id": "1f4e563f",
   "metadata": {},
   "outputs": [],
   "source": [
    "def find_outliers(model,X,y,sigma=3):\n",
    "    \n",
    "    # predict y values using model\n",
    "    try:\n",
    "        y_pred = pd.Series(model.predict(X),index=y.index)\n",
    "    # if predicting fails, try fitting the model first\n",
    "    except:\n",
    "        model.fit(X,y)\n",
    "        y_pred = pd.Series(model.predict(X),index=y.index)\n",
    "    \n",
    "    # calculate residuals between the model prediction and true y values\n",
    "    resid = y - y_pred\n",
    "    mean_resid = resid.mean()\n",
    "    std_resid  = resid.std()\n",
    "    \n",
    "    # calculate z statistic, define outliers to be where |z|>sigma\n",
    "    z = (resid-mean_resid)/std_resid\n",
    "    outliers = z[abs(z)>sigma].index\n",
    "    \n",
    "    # print and plot the results\n",
    "    print('R2=',model.score(X,y))\n",
    "    print('Mse=',mean_squared_error(y,y_pred))\n",
    "    print('-------------------------------------------------------')\n",
    "    \n",
    "    print(len(outliers),'outliers;',' ALL data shape:',X.shape)\n",
    "    \n",
    "    plt.figure(figsize=(15,5))\n",
    "    ax_131 = plt.subplot(1,3,1)\n",
    "    plt.plot(y,y_pred,'.')\n",
    "    plt.plot(y.loc[outliers],y_pred.loc[outliers],'ro')\n",
    "    plt.legend(['Accepted','Outlier'])\n",
    "    plt.xlabel('y')\n",
    "    plt.ylabel('y_pred');\n",
    "    \n",
    "    ax_132 = plt.subplot(1,3,2)\n",
    "    plt.plot(y,y-y_pred,'.')\n",
    "    plt.plot(y.loc[outliers],y.loc[outliers]-y_pred.loc[outliers],'ro')\n",
    "    plt.legend(['Accepted','Outlier'])\n",
    "    plt.xlabel('y')\n",
    "    plt.ylabel('y - y_pred');\n",
    "    \n",
    "    ax_133 = plt.subplot(1,3,3)\n",
    "    z.plot.hist(bins=50,ax=ax_133)\n",
    "    z.loc[outliers].plot.hist(color='r',bins=50,ax=ax_133)\n",
    "    plt.legend(['Accepted','Outlier'])\n",
    "    plt.xlabel('z')\n",
    "    \n",
    "    plt.savefig('analysis_results/outliers.png')\n",
    "    \n",
    "    return outliers\n"
   ]
  },
  {
   "cell_type": "code",
   "execution_count": 12,
   "id": "c0602646",
   "metadata": {},
   "outputs": [
    {
     "name": "stdout",
     "output_type": "stream",
     "text": [
      "R2= 0.027071031534741663\n",
      "Mse= 0.14169772015777293\n",
      "-------------------------------------------------------\n",
      "0 outliers;  ALL data shape: (149995, 47)\n",
      "nan\n"
     ]
    },
    {
     "data": {
      "image/png": "[encoded data removed]",
      "text/plain": [
       "<Figure size 1080x360 with 3 Axes>"
      ]
     },
     "metadata": {
      "needs_background": "light"
     },
     "output_type": "display_data"
    }
   ],
   "source": [
    "# 通过岭回归模型找出异常值，并绘制其分布\n",
    "from sklearn.linear_model import Ridge\n",
    "from sklearn.metrics import mean_squared_error\n",
    "X_train = train_data.iloc[:,0:-1]\n",
    "y_train = train_data.iloc[:,-1]\n",
    "outliers = find_outliers(Ridge(),X_train,y_train)\n",
    "outlier_index = list(outliers)\n",
    "outlier_sum = np.sum(train_data.iloc[outlier_index]['loan_default'].values)\n",
    "print(outlier_sum/len(outlier_index)*100)\n",
    "train_data.drop(labels=outlier_index,inplace=True)\n",
    "train_data = train_data.reset_index(drop=True)"
   ]
  },
  {
   "cell_type": "code",
   "execution_count": 16,
   "id": "7a97e284",
   "metadata": {},
   "outputs": [
    {
     "name": "stdout",
     "output_type": "stream",
     "text": [
      "R2= 0.14164407210518404\n",
      "Mse= 80.02880651897091\n",
      "-------------------------------------------------------\n",
      "0 outliers;  ALL data shape: (29894, 46)\n",
      "nan\n"
     ]
    },
    {
     "data": {
      "image/png": "[encoded data removed]",
      "text/plain": [
       "<Figure size 1080x360 with 3 Axes>"
      ]
     },
     "metadata": {
      "needs_background": "light"
     },
     "output_type": "display_data"
    }
   ],
   "source": [
    "# 通过岭回归模型找出异常值，并绘制其分布\n",
    "from sklearn.linear_model import Ridge\n",
    "from sklearn.metrics import mean_squared_error\n",
    "X_train = test_data.iloc[:,0:-1]\n",
    "y_train = test_data.iloc[:,-1]\n",
    "outliers = find_outliers(Ridge(),X_train,y_train)\n",
    "outlier_index = list(outliers)\n",
    "\n",
    "outlier_sum = np.sum(train_data.iloc[outlier_index]['loan_default'].values)\n",
    "print(outlier_sum/len(outlier_index)*100)\n",
    "\n",
    "test_data.drop(labels=outlier_index,inplace=True)\n",
    "test_data = test_data.reset_index(drop=True)"
   ]
  },
  {
   "cell_type": "code",
   "execution_count": null,
   "id": "3ac2222f",
   "metadata": {},
   "outputs": [],
   "source": [
    "train_cols = 6\n",
    "train_rows = len(train_data.columns)\n",
    "plt.figure(figsize=(4*train_cols,4*train_rows))\n",
    "\n",
    "i = 0\n",
    "for col in train_data.columns:\n",
    "    i+=1\n",
    "    ax = plt.subplot(train_rows,train_cols,i)\n",
    "    sns.distplot(train_data[col],fit=stats.norm)\n",
    "\n",
    "    i+=1\n",
    "    ax = plt.subplot(train_rows,train_cols,i)\n",
    "    stats.probplot(train_data[col],plot=plt)\n",
    "\n",
    "# tight_layout会自动调整子图参数，使之填充整个图像区域\n",
    "plt.tight_layout()\n",
    "plt.savefig('analysis_results/Q-Q.png')\n",
    "plt.show()"
   ]
  },
  {
   "cell_type": "code",
   "execution_count": null,
   "id": "1e718481",
   "metadata": {},
   "outputs": [],
   "source": [
    "dist_cols = 6\n",
    "dist_rows = len(test_data.columns)\n",
    "plt.figure(figsize=(4*dist_cols,4*dist_rows))\n",
    "i = 1\n",
    "for col in test_data.columns:\n",
    "    ax = plt.subplot(dist_rows,dist_cols,i)\n",
    "    ax = sns.kdeplot(train_data[col],color='Red',shade=True)\n",
    "    ax = sns.kdeplot(test_data[col],color='Blue',shade=True)\n",
    "    ax.set_xlabel(col)\n",
    "    ax.set_ylabel('Frequency')\n",
    "    ax = ax.legend(['train','test'])\n",
    "    i+=1\n",
    "plt.savefig('analysis_results/KDE.png')\n",
    "plt.show()"
   ]
  },
  {
   "cell_type": "code",
   "execution_count": null,
   "id": "36f07f61",
   "metadata": {},
   "outputs": [],
   "source": [
    "fcols = 6\n",
    "frows = len(test_data.columns)\n",
    "plt.figure(figsize=(5*fcols,4*frows))\n",
    "\n",
    "i = 0\n",
    "for col in test_data.columns:\n",
    "    i+=1\n",
    "    ax=plt.subplot(frows,fcols,i)\n",
    "    sns.regplot(x=col,y='loan_default',data=train_data,ax=ax,\n",
    "               scatter_kws={'marker':'.','s':3,'alpha':0.3},line_kws={'color':'k'});\n",
    "    plt.xlabel(col)\n",
    "    plt.ylabel('loan_default')\n",
    "    \n",
    "    i+=1\n",
    "    ax = plt.subplot(frows,fcols,i)\n",
    "    \n",
    "    sns.distplot(train_data[col].dropna())\n",
    "    plt.xlabel(col)\n",
    "    \n",
    "plt.tight_layout()\n",
    "plt.savefig('analysis_results/linear_regression_for_each_feature.png')\n",
    "plt.show()\n"
   ]
  },
  {
   "cell_type": "code",
   "execution_count": null,
   "id": "630b757d",
   "metadata": {},
   "outputs": [],
   "source": [
    "k = 10#len(train_data.columns)\n",
    "train_corr = train_data.corr()\n",
    "cols = train_corr.nlargest(k,'loan_default')['loan_default'].index\n",
    "\n",
    "cm = np.corrcoef(train_data[cols].values.T)\n",
    "hm = plt.subplots(figsize=(k,k))\n",
    "hm = sns.heatmap(train_data[cols].corr(),annot=True,square=True)\n",
    "plt.savefig('analysis_results/10-most-relavant.png')\n",
    "plt.show()"
   ]
  },
  {
   "cell_type": "code",
   "execution_count": null,
   "id": "96dee115",
   "metadata": {},
   "outputs": [],
   "source": [
    "threshold = 0.5\n",
    "k = len(train_data.columns)\n",
    "corrmat = train_data.corr()\n",
    "top_corr_features = corrmat.index[abs(corrmat['loan_default'])>threshold]\n",
    "plt.figure(figsize=(k,k))\n",
    "g = sns.heatmap(train_data[top_corr_features].corr(),annot=True,cmap='RdYlGn')"
   ]
  },
  {
   "cell_type": "code",
   "execution_count": 17,
   "id": "f618b33a",
   "metadata": {},
   "outputs": [
    {
     "name": "stdout",
     "output_type": "stream",
     "text": [
      "f1: 0.45146190275923864\n"
     ]
    }
   ],
   "source": [
    "from sklearn.model_selection  import train_test_split\n",
    "from sklearn import linear_model\n",
    "from sklearn.metrics import f1_score\n",
    "def calculate_f1(model):\n",
    "    y_pred = model.predict(X_test)\n",
    "    y_true = y_test\n",
    "    score = f1_score(y_true, y_pred, average='macro')\n",
    "    return score\n",
    "#划分数据集\n",
    "labels = train_data['loan_default'].values\n",
    "features_scaler = train_data.drop(['loan_default'],axis=1).values\n",
    "X_train,X_test, y_train, y_test = train_test_split(features_scaler, labels, test_size = 0.2, random_state = 0)\n",
    "#训练逻辑回归模型\n",
    "model = linear_model.LogisticRegression(n_jobs=-1)\n",
    "model = model.fit(X_train, y_train)\n",
    "print(\"f1:\",calculate_f1(model))"
   ]
  },
  {
   "cell_type": "code",
   "execution_count": 18,
   "id": "e8749614",
   "metadata": {},
   "outputs": [],
   "source": [
    "numerical_noserial_fea.pop()\n",
    "#合并训练集和测试集\n",
    "train_x = train_data.drop(['loan_default'],axis=1)\n",
    "train_x['flag'] = 'train'\n",
    "test_data['flag'] = 'test'\n",
    "\n",
    "data_all = pd.concat([train_x,test_data],axis=0,ignore_index=True)\n",
    "data_all.drop(numerical_noserial_fea,axis=1,inplace=True)\n",
    "\n",
    "# 归一化\n",
    "cols_numeric = [i for i in list(data_all.columns) if i!='flag']\n",
    "\n",
    "def scale_minmax(col):\n",
    "    return (col-col.min())/(col.max()-col.min())\n",
    "\n",
    "data_all[cols_numeric] = data_all[cols_numeric].apply(scale_minmax,axis=0)"
   ]
  },
  {
   "cell_type": "code",
   "execution_count": 19,
   "id": "5f0bbfcc",
   "metadata": {},
   "outputs": [
    {
     "name": "stdout",
     "output_type": "stream",
     "text": [
      "There are 0 columns in train dataset with missing values.\n"
     ]
    }
   ],
   "source": [
    "print(f'There are {data_all.isnull().any().sum()} columns in train dataset with missing values.')"
   ]
  },
  {
   "cell_type": "code",
   "execution_count": null,
   "id": "4944e63b",
   "metadata": {},
   "outputs": [],
   "source": [
    "train_data_process['loan_default'] = train_data['loan_default']\n",
    "print(f'There are {train_data.isnull().any().sum()} columns in train dataset with missing values.')"
   ]
  },
  {
   "cell_type": "code",
   "execution_count": 20,
   "id": "5e35d682",
   "metadata": {},
   "outputs": [
    {
     "ename": "NameError",
     "evalue": "name 'train_data_process' is not defined",
     "output_type": "error",
     "traceback": [
      "\u001b[1;31m---------------------------------------------------------------------------\u001b[0m",
      "\u001b[1;31mNameError\u001b[0m                                 Traceback (most recent call last)",
      "\u001b[1;32m<ipython-input-20-7adcff3d8cfe>\u001b[0m in \u001b[0;36m<module>\u001b[1;34m()\u001b[0m\n\u001b[1;32m----> 1\u001b[1;33m \u001b[0mtrain_data_process\u001b[0m\u001b[1;33m\u001b[0m\u001b[1;33m\u001b[0m\u001b[0m\n\u001b[0m",
      "\u001b[1;31mNameError\u001b[0m: name 'train_data_process' is not defined"
     ]
    }
   ],
   "source": [
    "train_data_process"
   ]
  },
  {
   "cell_type": "code",
   "execution_count": 32,
   "id": "10b495b3",
   "metadata": {},
   "outputs": [
    {
     "name": "stdout",
     "output_type": "stream",
     "text": [
      "There are 0 columns in train dataset with missing values.\n",
      "There are 0 columns in train dataset with missing values.\n"
     ]
    }
   ],
   "source": [
    "train_data_process = data_all[data_all['flag']=='train']\n",
    "train_data_process.drop(['flag'],axis=1,inplace=True)\n",
    "print(f'There are {train_data_process.isnull().any().sum()} columns in train dataset with missing values.')\n",
    "train_data_process = pd.concat([train_data_process,train_data['loan_default']],axis=1)\n",
    "print(f'There are {train_data_process.isnull().any().sum()} columns in train dataset with missing values.')"
   ]
  },
  {
   "cell_type": "code",
   "execution_count": 33,
   "id": "2d8182cd",
   "metadata": {},
   "outputs": [],
   "source": [
    "test_data_process = data_all[data_all['flag']=='test']"
   ]
  },
  {
   "cell_type": "code",
   "execution_count": 36,
   "id": "7ed3e39c",
   "metadata": {},
   "outputs": [
    {
     "name": "stdout",
     "output_type": "stream",
     "text": [
      "f1: 0.4523726338365656\n"
     ]
    }
   ],
   "source": [
    "def calculate_f1(model):\n",
    "    y_pred = model.predict(X_test)\n",
    "    y_true = y_test\n",
    "    score = f1_score(y_true, y_pred, average='macro')\n",
    "    return score\n",
    "#划分数据集\n",
    "labels = train_data_process['loan_default'].values\n",
    "features_scaler = train_data_process.drop(['loan_default'],axis=1).values\n",
    "X_train,X_test, y_train, y_test = train_test_split(features_scaler, labels, test_size = 0.2, random_state = 0)\n",
    "#训练逻辑回归模型\n",
    "model = linear_model.LogisticRegression(n_jobs=-1)\n",
    "model = model.fit(X_train, y_train)\n",
    "print(\"f1:\",calculate_f1(model))"
   ]
  },
  {
   "cell_type": "code",
   "execution_count": null,
   "id": "37e7eaed",
   "metadata": {},
   "outputs": [],
   "source": []
  },
  {
   "cell_type": "code",
   "execution_count": null,
   "id": "297689a5",
   "metadata": {},
   "outputs": [],
   "source": [
    "test_data_process\n",
    "print(f'There are {test_data_process.isnull().any().sum()} columns in train dataset with missing values.')"
   ]
  }
 ],
 "metadata": {
  "kernelspec": {
   "display_name": "Python 3",
   "language": "python",
   "name": "python3"
  },
  "language_info": {
   "codemirror_mode": {
    "name": "ipython",
    "version": 3
   },
   "file_extension": ".py",
   "mimetype": "text/x-python",
   "name": "python",
   "nbconvert_exporter": "python",
   "pygments_lexer": "ipython3",
   "version": "3.6.13"
  }
 },
 "nbformat": 4,
 "nbformat_minor": 5
}
