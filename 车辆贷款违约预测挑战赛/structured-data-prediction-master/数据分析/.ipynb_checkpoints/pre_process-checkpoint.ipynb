{
 "cells": [
  {
   "cell_type": "code",
   "execution_count": 2,
   "id": "ec6b67b0",
   "metadata": {},
   "outputs": [],
   "source": [
    "#导入必要的包\n",
    "import pandas as pd\n",
    "import numpy as np\n",
    "#读取相关文件\n",
    "train_path = '../data/train.csv'\n",
    "test_path = '../data/test.csv'\n",
    "train_data = pd.read_csv(train_path)\n",
    "test_data = pd.read_csv(test_path)\n",
    "inf_value = 9999\n",
    "train_data[np.isinf(train_data)] = inf_value\n",
    "test_data[np.isinf(test_data)] = inf_value\n",
    "#删除特征\n",
    "train_data = train_data.drop(['year_of_birth','customer_id','mobileno_flag', 'idcard_flag', 'disbursed_date'],axis=1)\n",
    "test_data = test_data.drop(['year_of_birth','customer_id','mobileno_flag', 'idcard_flag', 'disbursed_date'],axis=1)"
   ]
  }
 ],
 "metadata": {
  "kernelspec": {
   "display_name": "Python 3",
   "language": "python",
   "name": "python3"
  },
  "language_info": {
   "codemirror_mode": {
    "name": "ipython",
    "version": 3
   },
   "file_extension": ".py",
   "mimetype": "text/x-python",
   "name": "python",
   "nbconvert_exporter": "python",
   "pygments_lexer": "ipython3",
   "version": "3.6.13"
  }
 },
 "nbformat": 4,
 "nbformat_minor": 5
}
